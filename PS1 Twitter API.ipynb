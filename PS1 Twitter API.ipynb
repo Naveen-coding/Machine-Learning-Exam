{
 "cells": [
  {
   "cell_type": "markdown",
   "id": "controlled-category",
   "metadata": {},
   "source": [
    "# PS1 Twitter API"
   ]
  },
  {
   "cell_type": "markdown",
   "id": "subtle-survey",
   "metadata": {},
   "source": [
    "### importing required libraries "
   ]
  },
  {
   "cell_type": "code",
   "execution_count": 1,
   "id": "posted-appendix",
   "metadata": {},
   "outputs": [],
   "source": [
    "import tweepy\n",
    "import os"
   ]
  },
  {
   "cell_type": "markdown",
   "id": "capable-series",
   "metadata": {},
   "source": [
    "### consumer key , consumer secrete key , access token , access token secret from twitter developer account"
   ]
  },
  {
   "cell_type": "code",
   "execution_count": 2,
   "id": "computational-cliff",
   "metadata": {},
   "outputs": [],
   "source": [
    "consumer_key = \"EFEsBHvdieKkp7LdGqnLhNVan\"\n",
    "consumer_secret = \"mKEy1gBXGrwpmcPITRIHSL1XvD9I5kMFkAm5oZtOAr36tz3lms\"\n",
    "access_token = \"1409440976410644480-ODCNYw7abTZ58TSz84TaejSCRJyoep\"\n",
    "access_token_secret = \"s4rMDaVfQdvUnjygZIOAJRwsMIehXXFsXo1AhblrviZIF\""
   ]
  },
  {
   "cell_type": "markdown",
   "id": "sixth-extension",
   "metadata": {},
   "source": [
    "Authentication"
   ]
  },
  {
   "cell_type": "code",
   "execution_count": 3,
   "id": "popular-doctor",
   "metadata": {},
   "outputs": [],
   "source": [
    "auth = tweepy.OAuthHandler(consumer_key, consumer_secret)"
   ]
  },
  {
   "cell_type": "code",
   "execution_count": 4,
   "id": "excellent-arrest",
   "metadata": {},
   "outputs": [],
   "source": [
    "auth.set_access_token(access_token, access_token_secret)"
   ]
  },
  {
   "cell_type": "markdown",
   "id": "executive-klein",
   "metadata": {},
   "source": [
    "api"
   ]
  },
  {
   "cell_type": "code",
   "execution_count": 5,
   "id": "every-straight",
   "metadata": {},
   "outputs": [],
   "source": [
    "api = tweepy.API(auth)"
   ]
  },
  {
   "cell_type": "markdown",
   "id": "arctic-visiting",
   "metadata": {},
   "source": [
    "A WOEID (Where On Earth IDentifier) is a unique 32-bit reference identifier, originally defined by GeoPlanet and now assigned by Yahoo!"
   ]
  },
  {
   "cell_type": "code",
   "execution_count": 6,
   "id": "annual-execution",
   "metadata": {},
   "outputs": [],
   "source": [
    "woeid = 23424848 # woied for India"
   ]
  },
  {
   "cell_type": "markdown",
   "id": "naval-victory",
   "metadata": {},
   "source": [
    "### retreiving trending data "
   ]
  },
  {
   "cell_type": "code",
   "execution_count": 7,
   "id": "numerous-cooperative",
   "metadata": {},
   "outputs": [],
   "source": [
    "trends = api.trends_place(id = woeid)"
   ]
  },
  {
   "cell_type": "markdown",
   "id": "stone-switch",
   "metadata": {},
   "source": [
    "### trends in India"
   ]
  },
  {
   "cell_type": "code",
   "execution_count": 8,
   "id": "historic-suggestion",
   "metadata": {},
   "outputs": [
    {
     "name": "stdout",
     "output_type": "stream",
     "text": [
      "#BJPGujaratGoons\n",
      "SSR Warriors Will Win\n",
      "#ComeToIslam\n",
      "#ValimaiMotionposter\n",
      "#StillWithYou1stWin\n",
      "#ENGvIND\n",
      "27YRS OF BLOCKBUSTER MOHRA\n",
      "GOLDEN PRODUCER JK\n",
      "मुकुल गोयल\n",
      "kyungsoo\n",
      "HWANG HYUNJIN\n",
      "DIVYANKA HITS 15M ON IG\n",
      "CONGRATULATIONS JIMIN\n",
      "The 1st Mini Album\n",
      "Mayank\n",
      "Mithali Raj\n",
      "Kate Cross\n",
      "Shubman Gill\n",
      "Beach\n",
      "Congratulations Jungkook\n",
      "Harman\n",
      "Junmyeon\n",
      "नाग नागिन\n",
      "10 Lakh\n",
      "Everton\n",
      "Ambedkar\n",
      "Bagga\n",
      "Om Shanthi\n",
      "CBI Who Stole SSR Patents\n",
      "Rs 2\n",
      "taehyun\n",
      "Akshay Kumar\n",
      "Sylvie\n",
      "2nd July\n",
      "Episode 4\n",
      "#AbsoluteAceTaeyongDay\n",
      "#FilterByJimin170M\n",
      "#Hyunjin_LoveSTAYBoy\n",
      "#대장장미_태어났툥\n",
      "#ItsDOtime\n",
      "#DeepikaPadukone\n",
      "#मोदी_किसान_विरोधी\n",
      "#스트레이키즈\n",
      "#StrayKids\n",
      "#StudentCreditCard\n",
      "#Loki\n",
      "#PermissionToDanceIsComing\n",
      "#PushpaIntroCreatesHistory\n",
      "#DK1ISCOMING\n",
      "#NewNewsChannel\n"
     ]
    }
   ],
   "source": [
    "for value in trends:\n",
    "    for trend in value['trends']:\n",
    "        print(trend['name'])"
   ]
  },
  {
   "cell_type": "markdown",
   "id": "digital-audience",
   "metadata": {},
   "source": [
    "### top 10 trends in India"
   ]
  },
  {
   "cell_type": "code",
   "execution_count": 9,
   "id": "healthy-clerk",
   "metadata": {},
   "outputs": [
    {
     "name": "stdout",
     "output_type": "stream",
     "text": [
      "#BJPGujaratGoons\n",
      "SSR Warriors Will Win\n",
      "#ComeToIslam\n",
      "#ValimaiMotionposter\n",
      "#StillWithYou1stWin\n",
      "#ENGvIND\n",
      "27YRS OF BLOCKBUSTER MOHRA\n",
      "GOLDEN PRODUCER JK\n",
      "मुकुल गोयल\n",
      "kyungsoo\n"
     ]
    }
   ],
   "source": [
    "for i in range(10):\n",
    "    print(trends[0]['trends'][i]['name'])"
   ]
  }
 ],
 "metadata": {
  "kernelspec": {
   "display_name": "Python 3",
   "language": "python",
   "name": "python3"
  },
  "language_info": {
   "codemirror_mode": {
    "name": "ipython",
    "version": 3
   },
   "file_extension": ".py",
   "mimetype": "text/x-python",
   "name": "python",
   "nbconvert_exporter": "python",
   "pygments_lexer": "ipython3",
   "version": "3.7.0"
  }
 },
 "nbformat": 4,
 "nbformat_minor": 5
}
